{
 "cells": [
  {
   "cell_type": "code",
   "execution_count": 30,
   "metadata": {},
   "outputs": [],
   "source": [
    "import numpy as np\n",
    "import matplotlib.pyplot as plt\n",
    "from sklearn.datasets import make_blobs\n",
    "from sklearn.cluster import KMeans\n",
    "import sklearn.metrics as sm\n",
    "from utilitaires import  find_permutation"
   ]
  },
  {
   "cell_type": "code",
   "execution_count": 31,
   "metadata": {},
   "outputs": [],
   "source": [
    "#Générer les données\n",
    "\n",
    "dataset = make_blobs(n_samples=500,\n",
    "                     centers=3,\n",
    "                     n_features=2,\n",
    "                     cluster_std=0.7,\n",
    "                     random_state=1\n",
    "                     )\n"
   ]
  },
  {
   "cell_type": "code",
   "execution_count": 32,
   "metadata": {},
   "outputs": [],
   "source": [
    "# variables explicatives (p=2)\n",
    "data = dataset[0]\n",
    "#labels\n",
    "target = dataset[1]"
   ]
  },
  {
   "cell_type": "code",
   "execution_count": 33,
   "metadata": {},
   "outputs": [
    {
     "data": {
      "text/plain": [
       "array([[-10.09794953,  -3.2302599 ],\n",
       "       [-10.59373146,  -3.25273155],\n",
       "       [ -7.62920693,  -8.11888492],\n",
       "       [ -0.1260701 ,   3.07903722],\n",
       "       [ -6.316592  ,  -8.30005516],\n",
       "       [ -0.32629881,   5.18422956],\n",
       "       [ -9.56512263,  -4.08227198],\n",
       "       [ -7.16242845,  -8.66320435],\n",
       "       [ -9.7805219 ,  -5.41932202],\n",
       "       [ -6.76673806,  -8.11887183],\n",
       "       [ -6.41300321,  -7.48836193],\n",
       "       [ -6.28885045,  -8.64527239],\n",
       "       [ -7.19826599,  -7.98989072],\n",
       "       [ -0.8659213 ,   3.63656598],\n",
       "       [-10.07470655,  -3.94736429],\n",
       "       [ -7.22361432,  -9.2483836 ],\n",
       "       [ -1.4031275 ,   3.6752773 ],\n",
       "       [ -7.2527421 ,  -8.24540104],\n",
       "       [ -0.63608435,   2.96439137],\n",
       "       [ -6.94961664,  -7.60850618],\n",
       "       [-10.94114796,  -2.92383065],\n",
       "       [ -7.17023521,  -7.51237862],\n",
       "       [ -9.62749668,  -5.51930911],\n",
       "       [ -1.79384479,   3.78514959],\n",
       "       [ -6.49484199,  -7.60689915],\n",
       "       [ -7.72878994,  -8.44966291],\n",
       "       [ -1.52896693,   4.69352602],\n",
       "       [ -2.4259982 ,   4.52505757],\n",
       "       [-11.42375336,  -5.31316097],\n",
       "       [ -8.77520794,  -4.49589775],\n",
       "       [-10.71303266,  -3.39717878],\n",
       "       [ -1.90025748,   4.43700767],\n",
       "       [-10.66415597,  -4.31605043],\n",
       "       [-10.41305313,  -3.59613323],\n",
       "       [ -9.0011824 ,  -3.32054913],\n",
       "       [ -9.08091837,  -4.76183639],\n",
       "       [ -1.31492432,   3.93001517],\n",
       "       [-10.38795881,  -3.29593043],\n",
       "       [-10.1790005 ,  -3.82084331],\n",
       "       [ -1.65021303,   3.92020435],\n",
       "       [ -6.68503048,  -9.52394646],\n",
       "       [ -6.83999604,  -8.66087855],\n",
       "       [ -1.41417772,   3.48789148],\n",
       "       [ -6.97230874,  -8.54749373],\n",
       "       [ -7.81239579,  -8.20690366],\n",
       "       [-10.76572056,  -3.36630422],\n",
       "       [-11.75222096,  -5.43326329],\n",
       "       [ -6.99204481,  -7.78362571],\n",
       "       [ -1.60508512,   4.83935605],\n",
       "       [ -1.87664165,   2.70210343],\n",
       "       [ -1.62899161,   4.2480699 ],\n",
       "       [ -7.10643972,  -7.13893552],\n",
       "       [ -7.64588987,  -8.866892  ],\n",
       "       [ -7.12958481,  -8.31974079],\n",
       "       [  0.46204007,   4.98369911],\n",
       "       [ -6.98926061,  -8.13263577],\n",
       "       [-10.02513728,  -4.11347647],\n",
       "       [ -9.15179307,  -3.17235729],\n",
       "       [ -9.67106222,  -3.22976774],\n",
       "       [ -1.82611926,   5.21519139],\n",
       "       [ -2.51338098,   6.12104792],\n",
       "       [ -1.3175972 ,   4.35358967],\n",
       "       [ -1.22429745,   3.9866267 ],\n",
       "       [ -9.51891157,  -4.20073554],\n",
       "       [ -1.07227152,   5.05826133],\n",
       "       [ -9.98240852,  -4.28142022],\n",
       "       [ -6.74972976,  -7.71402215],\n",
       "       [-10.65145276,  -4.32646278],\n",
       "       [-10.33047352,  -3.61902142],\n",
       "       [ -5.39178001,  -7.98143211],\n",
       "       [ -6.95248669,  -8.23733309],\n",
       "       [ -1.3674485 ,   4.95582932],\n",
       "       [ -7.09007531,  -7.42730082],\n",
       "       [-10.19080475,  -3.09307964],\n",
       "       [ -5.92269812,  -7.55060424],\n",
       "       [ -8.55947563,  -3.91596187],\n",
       "       [ -8.8630739 ,  -4.51767792],\n",
       "       [ -7.09027909,  -8.73590485],\n",
       "       [ -7.7377667 ,  -9.17405523],\n",
       "       [ -0.87317139,   4.6201768 ],\n",
       "       [ -9.87880402,  -4.76815413],\n",
       "       [ -1.74558306,   3.75145126],\n",
       "       [ -8.15474127,  -8.58193759],\n",
       "       [ -1.23793641,   4.70068741],\n",
       "       [ -2.5206006 ,   4.79186612],\n",
       "       [ -2.44108892,   4.46313884],\n",
       "       [ -2.32835759,   4.81662717],\n",
       "       [ -1.37711576,   4.82199484],\n",
       "       [-11.1031219 ,  -4.53338813],\n",
       "       [ -7.15038999,  -8.62982421],\n",
       "       [ -1.54753396,   5.01980811],\n",
       "       [-10.6387668 ,  -4.23842498],\n",
       "       [ -9.40910941,  -4.0253696 ],\n",
       "       [ -8.52535558,  -7.89996696],\n",
       "       [ -0.67428191,   4.49686097],\n",
       "       [-10.75420999,  -3.44551674],\n",
       "       [-11.3641862 ,  -4.93497895],\n",
       "       [ -6.84801045,  -7.41730357],\n",
       "       [-11.35924537,  -4.59414561],\n",
       "       [ -2.11240159,   5.03753069],\n",
       "       [ -1.88810955,   3.46661682],\n",
       "       [-10.3240209 ,  -2.98385461],\n",
       "       [ -2.48718259,   3.94046171],\n",
       "       [ -2.27365697,   3.79903881],\n",
       "       [ -1.66088394,   3.42885557],\n",
       "       [-10.57343954,  -3.44815064],\n",
       "       [-10.07223459,  -5.90704603],\n",
       "       [ -0.93238268,   5.93737562],\n",
       "       [ -1.36311386,   4.46062792],\n",
       "       [-10.4886536 ,  -4.32940466],\n",
       "       [ -9.68260364,  -2.71761398],\n",
       "       [-10.4354519 ,  -4.36903869],\n",
       "       [ -1.5207501 ,   4.48979592],\n",
       "       [ -1.85492831,   5.54248423],\n",
       "       [ -2.1405808 ,   3.81484592],\n",
       "       [ -1.83748581,   5.38638063],\n",
       "       [ -0.82031739,   4.53609936],\n",
       "       [ -6.6586511 ,  -8.83451541],\n",
       "       [ -1.46309435,   4.35531098],\n",
       "       [ -6.41027874,  -6.88445863],\n",
       "       [ -7.2931251 ,  -8.1748661 ],\n",
       "       [-10.91228635,  -3.89988221],\n",
       "       [ -7.38668456,  -6.95938964],\n",
       "       [ -9.30824633,  -3.20347185],\n",
       "       [ -7.09065454,  -8.07457016],\n",
       "       [ -1.56572617,   5.24792827],\n",
       "       [ -2.96014721,   5.27180469],\n",
       "       [ -9.47736292,  -5.01004943],\n",
       "       [ -9.54366195,  -3.87820824],\n",
       "       [-11.49743921,  -4.53446675],\n",
       "       [ -1.68664676,   3.27544922],\n",
       "       [ -1.71871553,   4.19833655],\n",
       "       [-10.26007578,  -4.47832728],\n",
       "       [ -7.95420473,  -7.95513123],\n",
       "       [ -7.79675616,  -7.90452895],\n",
       "       [-10.31699479,  -4.63927172],\n",
       "       [ -2.05317371,   5.77490452],\n",
       "       [ -7.28671302,  -7.704538  ],\n",
       "       [ -0.76793075,   5.78346109],\n",
       "       [ -1.4896913 ,   4.54777099],\n",
       "       [-10.17388445,  -3.68544793],\n",
       "       [-10.37027632,  -3.17065517],\n",
       "       [ -9.87098538,  -3.17832573],\n",
       "       [ -1.57544864,   4.83853205],\n",
       "       [ -1.88525195,   4.13765182],\n",
       "       [ -2.55035103,   4.62597327],\n",
       "       [ -8.65899078,  -8.20196528],\n",
       "       [-10.28810533,  -3.63698632],\n",
       "       [ -7.01430585,  -7.44637697],\n",
       "       [ -7.37757163,  -8.01016393],\n",
       "       [ -7.21513987,  -7.43835442],\n",
       "       [ -1.46601039,   3.89319975],\n",
       "       [ -1.62399448,   3.96059292],\n",
       "       [ -6.77769616,  -7.55131842],\n",
       "       [ -2.44294068,   5.7757451 ],\n",
       "       [ -6.66380828,  -7.83266515],\n",
       "       [ -6.84217424,  -8.16669025],\n",
       "       [-10.307273  ,  -3.7268794 ],\n",
       "       [-10.13425264,  -3.38957315],\n",
       "       [ -2.24068023,   3.79008555],\n",
       "       [ -8.97508784,  -3.53861759],\n",
       "       [ -2.20689808,   4.10023358],\n",
       "       [ -1.46023623,   4.59021708],\n",
       "       [ -0.49769838,   4.92592078],\n",
       "       [ -7.1721475 ,  -9.85598406],\n",
       "       [ -6.8789325 ,  -8.33555435],\n",
       "       [ -6.15939745,  -8.46052647],\n",
       "       [ -6.64039942,  -6.54762578],\n",
       "       [ -1.30050903,   4.19782488],\n",
       "       [ -9.40041497,  -4.05114676],\n",
       "       [ -1.0743566 ,   5.48684125],\n",
       "       [-10.77311126,  -3.96575137],\n",
       "       [ -9.63716097,  -5.90112267],\n",
       "       [  0.11026809,   4.23244552],\n",
       "       [ -9.67489763,  -4.77653642],\n",
       "       [ -7.69396042,  -7.92946825],\n",
       "       [-10.28585992,  -3.05837889],\n",
       "       [ -7.20457469,  -8.61145032],\n",
       "       [ -9.76165785,  -3.24770274],\n",
       "       [ -6.75101573,  -7.36550166],\n",
       "       [ -3.61471941,   5.76276004],\n",
       "       [ -0.86741933,   5.47036164],\n",
       "       [ -6.75331449,  -8.08454953],\n",
       "       [-10.29485746,  -4.46542023],\n",
       "       [ -6.38852758,  -7.64508631],\n",
       "       [ -6.37607362,  -8.5450051 ],\n",
       "       [ -9.7375433 ,  -2.65624191],\n",
       "       [ -9.15923091,  -2.76013263],\n",
       "       [ -6.59041688,  -8.92782925],\n",
       "       [ -1.67679178,   3.86387674],\n",
       "       [ -0.39218547,   3.49248102],\n",
       "       [-11.55669135,  -5.14288207],\n",
       "       [ -7.27556549,  -7.58800896],\n",
       "       [ -6.78923077,  -8.31292659],\n",
       "       [ -1.84708156,   4.7777387 ],\n",
       "       [ -6.39673522,  -8.08620536],\n",
       "       [-10.29371238,  -3.89282346],\n",
       "       [ -6.16104995,  -8.23473901],\n",
       "       [ -1.45964878,   5.02608868],\n",
       "       [-10.41852226,  -3.56409709],\n",
       "       [ -1.90105095,   4.24490205],\n",
       "       [ -7.66512996,  -8.80715539],\n",
       "       [ -9.51291046,  -4.2884192 ],\n",
       "       [ -9.89813654,  -3.59389471],\n",
       "       [ -9.18075989,  -3.98111664],\n",
       "       [ -8.76553805,  -3.99580529],\n",
       "       [ -6.86322747,  -7.10455238],\n",
       "       [ -7.61844215,  -7.29662256],\n",
       "       [-10.80983158,  -3.00827377],\n",
       "       [ -9.43906785,  -4.02470097],\n",
       "       [ -9.19488224,  -3.98814035],\n",
       "       [ -7.48214262,  -7.55009193],\n",
       "       [ -7.9715627 ,  -8.10120372],\n",
       "       [ -9.18470452,  -3.97261912],\n",
       "       [ -9.45169351,  -4.39395767],\n",
       "       [ -2.44167715,   4.57058086],\n",
       "       [ -9.63692284,  -4.73375828],\n",
       "       [ -2.1294322 ,   4.39762465],\n",
       "       [ -6.25806279,  -8.31019315],\n",
       "       [-10.31967249,  -3.50230098],\n",
       "       [ -9.2696501 ,  -4.59625657],\n",
       "       [ -6.32265293,  -9.35104547],\n",
       "       [ -9.68181369,  -5.13219054],\n",
       "       [-10.9963013 ,  -2.71577658],\n",
       "       [ -1.61703477,   4.5542772 ],\n",
       "       [ -6.81717288,  -8.28409662],\n",
       "       [-10.29096903,  -4.28877799],\n",
       "       [ -1.1045951 ,   3.97001836],\n",
       "       [ -7.60234481,  -8.40840474],\n",
       "       [ -2.15364826,   5.24137012],\n",
       "       [-10.12205504,  -5.01066801],\n",
       "       [-11.22686045,  -3.45299583],\n",
       "       [ -1.78025965,   3.79198898],\n",
       "       [ -2.81506479,   3.78310096],\n",
       "       [ -9.43152145,  -2.70052027],\n",
       "       [ -6.35930565,  -7.87859367],\n",
       "       [ -1.09825718,   4.43908698],\n",
       "       [ -6.09905145,  -7.73151247],\n",
       "       [ -7.74932328,  -8.03285811],\n",
       "       [ -2.35747376,   4.33173408],\n",
       "       [ -4.74012705,  -8.57338584],\n",
       "       [ -7.71369254,  -8.28092239],\n",
       "       [ -6.53894612,  -8.0549513 ],\n",
       "       [-10.7487875 ,  -3.60673752],\n",
       "       [ -7.43053171,  -8.41170724],\n",
       "       [ -1.46168691,   3.82822167],\n",
       "       [ -7.73051866,  -8.64627334],\n",
       "       [ -0.21351158,   3.37668002],\n",
       "       [ -8.08971969,  -8.26137194],\n",
       "       [ -2.14372243,   4.1287624 ],\n",
       "       [ -1.9725499 ,   5.26364526],\n",
       "       [ -6.96680527,  -9.14663225],\n",
       "       [ -6.63873362,  -9.47021571],\n",
       "       [ -1.3506048 ,   4.33638121],\n",
       "       [-11.07486778,  -4.26687518],\n",
       "       [ -1.22320638,   4.10202019],\n",
       "       [ -6.78586331,  -8.28763069],\n",
       "       [ -9.68158134,  -3.18042652],\n",
       "       [ -2.14983886,   4.26411375],\n",
       "       [ -6.9250505 ,  -7.50032312],\n",
       "       [ -1.05377457,   2.79541278],\n",
       "       [ -1.585204  ,   3.33851365],\n",
       "       [ -0.2237385 ,   4.81645327],\n",
       "       [ -1.48540049,   4.19884106],\n",
       "       [ -7.28507689,  -9.09473512],\n",
       "       [ -8.15177133,  -7.74830301],\n",
       "       [ -9.73699271,  -4.05729141],\n",
       "       [ -9.38803364,  -4.30926854],\n",
       "       [-10.22961072,  -3.68277115],\n",
       "       [ -1.10304164,   4.14438305],\n",
       "       [ -6.63457379,  -8.39751704],\n",
       "       [ -0.72753993,   4.20537436],\n",
       "       [ -1.09189373,   5.13759934],\n",
       "       [ -6.78878256,  -7.64536231],\n",
       "       [ -2.42999333,   5.20779647],\n",
       "       [ -9.74065023,  -3.09031911],\n",
       "       [ -7.8916544 ,  -8.47517918],\n",
       "       [ -1.26562714,   4.57500583],\n",
       "       [ -7.90198524,  -6.3990419 ],\n",
       "       [ -0.43819167,   3.87364504],\n",
       "       [-10.60671826,  -3.69491522],\n",
       "       [ -6.8463151 ,  -8.28855325],\n",
       "       [ -1.30733054,   5.31174799],\n",
       "       [ -7.0871542 ,  -8.07448668],\n",
       "       [ -2.67043957,   4.05336376],\n",
       "       [ -0.52020438,   4.64309806],\n",
       "       [ -7.46328624,  -8.89648584],\n",
       "       [ -9.22841507,  -4.58449269],\n",
       "       [-10.53482938,  -3.48114905],\n",
       "       [ -0.64355942,   3.97386408],\n",
       "       [ -6.69755684,  -8.48721505],\n",
       "       [ -6.9621465 ,  -7.75296469],\n",
       "       [ -5.71821139,  -8.57741503],\n",
       "       [-10.3539931 ,  -4.06988872],\n",
       "       [ -0.96912527,   4.5559636 ],\n",
       "       [ -5.90489494,  -7.1608563 ],\n",
       "       [-10.16321837,  -3.4438791 ],\n",
       "       [ -9.53453575,  -3.26290202],\n",
       "       [ -8.5186436 ,  -7.48997729],\n",
       "       [ -9.02729252,  -3.56965784],\n",
       "       [-10.72514013,  -3.44023229],\n",
       "       [ -9.44805366,  -4.41875598],\n",
       "       [ -8.50123286,  -4.50322235],\n",
       "       [-11.09372921,  -3.24367282],\n",
       "       [ -6.35189545,  -7.29183736],\n",
       "       [ -9.45351906,  -4.03648837],\n",
       "       [ -8.39156905,  -8.09041772],\n",
       "       [ -7.47960508,  -9.76666366],\n",
       "       [ -1.12839594,   5.02592604],\n",
       "       [ -2.49904753,   5.01083159],\n",
       "       [ -7.02966022,  -7.69800185],\n",
       "       [ -6.65185456,  -8.62879675],\n",
       "       [ -6.6402983 ,  -8.66933084],\n",
       "       [ -1.64737332,   3.62107676],\n",
       "       [ -1.31291198,   4.28419766],\n",
       "       [ -7.26535162,  -8.76284946],\n",
       "       [-11.24925153,  -3.70005543],\n",
       "       [ -0.87949182,   3.99592311],\n",
       "       [ -2.62074203,   4.62710144],\n",
       "       [ -7.82811902,  -6.9630964 ],\n",
       "       [ -9.14010341,  -4.6908308 ],\n",
       "       [ -0.12965712,   3.42894243],\n",
       "       [ -1.19822505,   3.26728303],\n",
       "       [ -6.34146662,  -8.2556194 ],\n",
       "       [ -1.59276234,   5.05150492],\n",
       "       [ -1.84591286,   4.42932005],\n",
       "       [ -1.22480202,   5.07577506],\n",
       "       [ -5.98930675,  -8.15349061],\n",
       "       [ -8.9537354 ,  -9.00256479],\n",
       "       [ -9.42648192,  -4.38203343],\n",
       "       [ -1.14117039,   3.73889945],\n",
       "       [ -9.40041565,  -4.24246906],\n",
       "       [ -6.8158801 ,  -7.55851731],\n",
       "       [ -6.2519822 ,  -7.40425223],\n",
       "       [ -1.78620412,   3.98374543],\n",
       "       [ -2.04160182,   4.26730336],\n",
       "       [ -6.53610776,  -7.66254062],\n",
       "       [ -6.01776285,  -7.68041044],\n",
       "       [ -0.68741433,   3.9435489 ],\n",
       "       [ -5.72102758,  -9.12741382],\n",
       "       [ -6.63631942,  -7.63180893],\n",
       "       [ -1.52591907,   5.87666846],\n",
       "       [ -2.18257071,   5.59120809],\n",
       "       [ -9.29062348,  -3.30933599],\n",
       "       [ -1.44944068,   4.15991498],\n",
       "       [ -0.84732291,   4.66513477],\n",
       "       [ -2.59192607,   3.17400788],\n",
       "       [ -1.74388511,   3.54330535],\n",
       "       [ -9.32113503,  -3.45421421],\n",
       "       [-10.19571699,  -4.13977737],\n",
       "       [ -6.8965283 ,  -8.85282666],\n",
       "       [ -2.45932264,   4.16194996],\n",
       "       [ -1.75474403,   3.84840102],\n",
       "       [ -7.31633905,  -7.79946077],\n",
       "       [ -6.75969185,  -8.63446928],\n",
       "       [ -2.12902351,   4.67078452],\n",
       "       [ -9.88832781,  -4.08650326],\n",
       "       [ -1.73687282,   3.97433642],\n",
       "       [ -6.59404836,  -6.45301423],\n",
       "       [ -1.43623254,   4.23193061],\n",
       "       [ -9.26621642,  -3.52738826],\n",
       "       [ -8.56599302,  -8.4119218 ],\n",
       "       [-10.15784858,  -2.82399559],\n",
       "       [ -1.49849359,   4.9398977 ],\n",
       "       [ -7.68973486,  -8.26606693],\n",
       "       [ -7.59384612,  -6.85722158],\n",
       "       [ -8.0089697 ,  -7.24145323],\n",
       "       [ -1.0513396 ,   4.93177802],\n",
       "       [-10.12609264,  -3.18264841],\n",
       "       [ -7.40866978,  -8.05916692],\n",
       "       [ -9.97325199,  -2.93560624],\n",
       "       [ -9.24943237,  -3.92508855],\n",
       "       [ -9.90784861,  -2.72105792],\n",
       "       [ -9.28986756,  -4.98694241],\n",
       "       [-10.54221368,  -3.17225977],\n",
       "       [ -9.51235615,  -4.48399568],\n",
       "       [ -2.18763846,   5.28349758],\n",
       "       [-10.77711778,  -4.00053556],\n",
       "       [ -1.63001028,   4.81446052],\n",
       "       [ -1.92225937,   3.95937858],\n",
       "       [ -9.58845988,  -3.72635658],\n",
       "       [ -2.0935605 ,   4.89511229],\n",
       "       [ -7.09698886,  -8.30634153],\n",
       "       [ -1.2013538 ,   4.37065796],\n",
       "       [ -6.78636589,  -8.85043573],\n",
       "       [-10.56390554,  -3.56314093],\n",
       "       [ -2.83149697,   4.98401075],\n",
       "       [ -8.71341016,  -3.55828055],\n",
       "       [ -1.57428502,   5.1971286 ],\n",
       "       [ -9.89856413,  -5.71476125],\n",
       "       [ -6.71679381,  -7.98709522],\n",
       "       [ -1.35284346,   5.19211969],\n",
       "       [-11.02069503,  -4.31479208],\n",
       "       [-11.20128864,  -3.91336385],\n",
       "       [-10.19492789,  -2.51389968],\n",
       "       [ -1.18351102,   4.18262875],\n",
       "       [ -2.0083094 ,   4.18880038],\n",
       "       [ -7.31871064,  -9.19283762],\n",
       "       [-10.33312247,  -3.70823154],\n",
       "       [ -5.8023699 ,  -8.46999559],\n",
       "       [ -1.49681371,   4.88427585],\n",
       "       [ -6.91851451,  -7.06471691],\n",
       "       [ -6.72148945,  -9.12992622],\n",
       "       [ -6.95987079,  -7.82875408],\n",
       "       [ -7.33054444,  -8.86359069],\n",
       "       [ -6.64543292,  -9.18239407],\n",
       "       [-10.10760807,  -4.88799045],\n",
       "       [-10.02247005,  -2.47592501],\n",
       "       [-10.11545169,  -4.07527479],\n",
       "       [ -7.15923737,  -7.4187753 ],\n",
       "       [ -9.9856972 ,  -4.25374814],\n",
       "       [-10.55739575,  -4.15746476],\n",
       "       [-11.30892519,  -3.30891796],\n",
       "       [ -2.52535727,   5.01957712],\n",
       "       [ -9.08336826,  -4.37657063],\n",
       "       [ -0.56839603,   4.48307176],\n",
       "       [-10.26709508,  -2.93267278],\n",
       "       [ -6.94226477,  -8.19066669],\n",
       "       [ -1.02896074,   3.92788037],\n",
       "       [-10.238443  ,  -4.65346698],\n",
       "       [ -6.29331647,  -9.01393008],\n",
       "       [ -1.75507123,   4.32315194],\n",
       "       [ -7.41766395,  -8.14065898],\n",
       "       [ -6.71884303,  -9.19916374],\n",
       "       [ -1.1968457 ,   5.66100062],\n",
       "       [ -0.87456751,   4.69272025],\n",
       "       [-10.31182913,  -4.42406217],\n",
       "       [ -6.71388147,  -8.48825796],\n",
       "       [ -9.40081966,  -3.92859648],\n",
       "       [ -7.2041384 ,  -7.94185607],\n",
       "       [ -9.55210412,  -2.96687117],\n",
       "       [ -1.28893418,   4.50288072],\n",
       "       [ -9.64005606,  -2.75588526],\n",
       "       [ -6.76038336,  -7.51593158],\n",
       "       [ -1.94017464,   4.9832938 ],\n",
       "       [-11.32688095,  -4.73532603],\n",
       "       [-10.12344111,  -3.60214097],\n",
       "       [ -8.81204612,  -3.8155397 ],\n",
       "       [ -1.64799061,   4.53052127],\n",
       "       [ -2.02928013,   3.65541183],\n",
       "       [ -6.79496058,  -7.65042459],\n",
       "       [ -9.72253603,  -5.23009244],\n",
       "       [ -6.41703133,  -8.4731196 ],\n",
       "       [ -8.92977034,  -8.45172814],\n",
       "       [-11.6871646 ,  -5.19764501],\n",
       "       [-11.35803889,  -3.70660249],\n",
       "       [ -9.37763444,  -3.82044539],\n",
       "       [ -6.84227218,  -8.77641819],\n",
       "       [ -6.55699682,  -8.38017106],\n",
       "       [ -6.99838491,  -8.09670241],\n",
       "       [ -6.04531301,  -7.93158204],\n",
       "       [ -6.36090151,  -7.90573105],\n",
       "       [ -6.21232355,  -9.51170478],\n",
       "       [ -9.75193068,  -4.00148787],\n",
       "       [ -5.98743728,  -8.95732107],\n",
       "       [-10.13701123,  -2.64681858],\n",
       "       [-11.14392722,  -1.18232665],\n",
       "       [ -7.19302557,  -8.30794834],\n",
       "       [ -1.87390271,   4.98607212],\n",
       "       [ -1.81518961,   4.26595922],\n",
       "       [ -6.9869461 ,  -8.1668939 ],\n",
       "       [-10.0714538 ,  -3.51221158],\n",
       "       [ -7.43596604,  -8.43829612],\n",
       "       [ -1.79015875,   4.33526776],\n",
       "       [ -0.52769519,   4.75840849],\n",
       "       [ -1.06724745,   3.80482871],\n",
       "       [-10.04624259,  -4.02922299],\n",
       "       [ -7.07710065,  -7.64124634],\n",
       "       [ -9.68192645,  -4.43979318],\n",
       "       [ -6.69306753,  -8.15042752],\n",
       "       [ -2.66817312,   5.26906702],\n",
       "       [ -1.43861544,   2.99094902],\n",
       "       [ -7.37162237,  -8.02335317],\n",
       "       [ -8.89488497,  -3.10872302],\n",
       "       [ -1.0284464 ,   4.75823591],\n",
       "       [ -7.39918878,  -8.13502811],\n",
       "       [ -1.80578587,   4.8171261 ],\n",
       "       [-10.15340232,  -2.92423631],\n",
       "       [ -7.65287442,  -9.76197222],\n",
       "       [ -1.29515647,   3.6054509 ],\n",
       "       [ -1.22658251,   4.09626952],\n",
       "       [-10.41468002,  -4.16973347],\n",
       "       [-10.07890213,  -4.07616983],\n",
       "       [ -7.68101453,  -8.16652847],\n",
       "       [ -8.98769865,  -4.33112564],\n",
       "       [ -2.16747789,   3.79905179],\n",
       "       [ -1.35889161,   3.98159099],\n",
       "       [ -9.52563523,  -4.45902288],\n",
       "       [-10.22804859,  -3.01037472],\n",
       "       [ -7.34116496,  -8.97349747],\n",
       "       [ -2.02152603,   3.70857109],\n",
       "       [ -1.7901652 ,   4.36671273],\n",
       "       [ -9.20251725,  -7.81733144],\n",
       "       [-10.20001064,  -4.22761992],\n",
       "       [-10.73205993,  -3.73168732],\n",
       "       [-10.39236462,  -3.89056806],\n",
       "       [ -6.21097012,  -8.94688253],\n",
       "       [ -7.07735447,  -8.57332526],\n",
       "       [ -2.26248136,   4.87878794],\n",
       "       [-10.97688148,  -3.89611107]])"
      ]
     },
     "execution_count": 33,
     "metadata": {},
     "output_type": "execute_result"
    }
   ],
   "source": [
    "data"
   ]
  },
  {
   "cell_type": "code",
   "execution_count": 34,
   "metadata": {},
   "outputs": [
    {
     "data": {
      "text/plain": [
       "array([1, 1, 2, 0, 2, 0, 1, 2, 1, 2, 2, 2, 2, 0, 1, 2, 0, 2, 0, 2, 1, 2,\n",
       "       1, 0, 2, 2, 0, 0, 1, 1, 1, 0, 1, 1, 1, 1, 0, 1, 1, 0, 2, 2, 0, 2,\n",
       "       2, 1, 1, 2, 0, 0, 0, 2, 2, 2, 0, 2, 1, 1, 1, 0, 0, 0, 0, 1, 0, 1,\n",
       "       2, 1, 1, 2, 2, 0, 2, 1, 2, 1, 1, 2, 2, 0, 1, 0, 2, 0, 0, 0, 0, 0,\n",
       "       1, 2, 0, 1, 1, 2, 0, 1, 1, 2, 1, 0, 0, 1, 0, 0, 0, 1, 1, 0, 0, 1,\n",
       "       1, 1, 0, 0, 0, 0, 0, 2, 0, 2, 2, 1, 2, 1, 2, 0, 0, 1, 1, 1, 0, 0,\n",
       "       1, 2, 2, 1, 0, 2, 0, 0, 1, 1, 1, 0, 0, 0, 2, 1, 2, 2, 2, 0, 0, 2,\n",
       "       0, 2, 2, 1, 1, 0, 1, 0, 0, 0, 2, 2, 2, 2, 0, 1, 0, 1, 1, 0, 1, 2,\n",
       "       1, 2, 1, 2, 0, 0, 2, 1, 2, 2, 1, 1, 2, 0, 0, 1, 2, 2, 0, 2, 1, 2,\n",
       "       0, 1, 0, 2, 1, 1, 1, 1, 2, 2, 1, 1, 1, 2, 2, 1, 1, 0, 1, 0, 2, 1,\n",
       "       1, 2, 1, 1, 0, 2, 1, 0, 2, 0, 1, 1, 0, 0, 1, 2, 0, 2, 2, 0, 2, 2,\n",
       "       2, 1, 2, 0, 2, 0, 2, 0, 0, 2, 2, 0, 1, 0, 2, 1, 0, 2, 0, 0, 0, 0,\n",
       "       2, 2, 1, 1, 1, 0, 2, 0, 0, 2, 0, 1, 2, 0, 2, 0, 1, 2, 0, 2, 0, 0,\n",
       "       2, 1, 1, 0, 2, 2, 2, 1, 0, 2, 1, 1, 2, 1, 1, 1, 1, 1, 2, 1, 2, 2,\n",
       "       0, 0, 2, 2, 2, 0, 0, 2, 1, 0, 0, 2, 1, 0, 0, 2, 0, 0, 0, 2, 2, 1,\n",
       "       0, 1, 2, 2, 0, 0, 2, 2, 0, 2, 2, 0, 0, 1, 0, 0, 0, 0, 1, 1, 2, 0,\n",
       "       0, 2, 2, 0, 1, 0, 2, 0, 1, 2, 1, 0, 2, 2, 2, 0, 1, 2, 1, 1, 1, 1,\n",
       "       1, 1, 0, 1, 0, 0, 1, 0, 2, 0, 2, 1, 0, 1, 0, 1, 2, 0, 1, 1, 1, 0,\n",
       "       0, 2, 1, 2, 0, 2, 2, 2, 2, 2, 1, 1, 1, 2, 1, 1, 1, 0, 1, 0, 1, 2,\n",
       "       0, 1, 2, 0, 2, 2, 0, 0, 1, 2, 1, 2, 1, 0, 1, 2, 0, 1, 1, 1, 0, 0,\n",
       "       2, 1, 2, 2, 1, 1, 1, 2, 2, 2, 2, 2, 2, 1, 2, 1, 1, 2, 0, 0, 2, 1,\n",
       "       2, 0, 0, 0, 1, 2, 1, 2, 0, 0, 2, 1, 0, 2, 0, 1, 2, 0, 0, 1, 1, 2,\n",
       "       1, 0, 0, 1, 1, 2, 0, 0, 2, 1, 1, 1, 2, 2, 0, 1])"
      ]
     },
     "execution_count": 34,
     "metadata": {},
     "output_type": "execute_result"
    }
   ],
   "source": [
    "target"
   ]
  },
  {
   "cell_type": "code",
   "execution_count": 35,
   "metadata": {},
   "outputs": [
    {
     "data": {
      "image/png": "[encoded data removed]",
      "text/plain": [
       "<Figure size 432x288 with 1 Axes>"
      ]
     },
     "metadata": {
      "needs_background": "light"
     },
     "output_type": "display_data"
    }
   ],
   "source": [
    "#Affichage des données\n",
    "plt.scatter(data[:,0],data[:,1], s=40)\n",
    "plt.show()"
   ]
  },
  {
   "cell_type": "code",
   "execution_count": 36,
   "metadata": {},
   "outputs": [
    {
     "data": {
      "text/plain": [
       "-470.7728471429774"
      ]
     },
     "execution_count": 36,
     "metadata": {},
     "output_type": "execute_result"
    }
   ],
   "source": [
    "#Créer un modèle kmeans\n",
    "model = KMeans(n_clusters=3)\n",
    "#Ajuster le modèle aux données\n",
    "model.fit(data)\n",
    "#prediction\n",
    "y_kmeans = model.predict(data) # même chose que model.labels_\n",
    "model.labels_ #les labels prédits\n",
    "model.cluster_centers_ # centroides\n",
    "model.inertia_ #inertie\n",
    "model.score(data) #-inertie"
   ]
  },
  {
   "cell_type": "code",
   "execution_count": 37,
   "metadata": {},
   "outputs": [
    {
     "data": {
      "image/png": "[encoded data removed]",
      "text/plain": [
       "<Figure size 432x288 with 1 Axes>"
      ]
     },
     "metadata": {
      "needs_background": "light"
     },
     "output_type": "display_data"
    }
   ],
   "source": [
    "\n",
    "###### PROBLEME LES LABELS SONT PERMUTES  on va vérifier çà avec les graphiques\n",
    "# et le score\n",
    "# Representation graphique 1\n",
    "plt.scatter(data[model.labels_==0][:,0],\n",
    "            data[model.labels_==0][:,1],s=50,color ='BLUE')\n",
    "plt.scatter(data[model.labels_==1][:,0],\n",
    "            data[model.labels_==1][:,1],s=50,color ='GREEN')\n",
    "plt.scatter(data[model.labels_==2][:,0],\n",
    "            data[model.labels_==2][:,1],s=50,color ='CYAN')\n",
    "plt.scatter(model.cluster_centers_[:,0],\n",
    "            model.cluster_centers_[:,1],c='r',marker='*')\n",
    "plt.show()"
   ]
  },
  {
   "cell_type": "code",
   "execution_count": 38,
   "metadata": {},
   "outputs": [
    {
     "data": {
      "text/plain": [
       "<matplotlib.collections.PathCollection at 0x211ffb49520>"
      ]
     },
     "execution_count": 38,
     "metadata": {},
     "output_type": "execute_result"
    },
    {
     "data": {
      "image/png": "[encoded data removed]",
      "text/plain": [
       "<Figure size 432x288 with 1 Axes>"
      ]
     },
     "metadata": {
      "needs_background": "light"
     },
     "output_type": "display_data"
    }
   ],
   "source": [
    "# Representation graphique  faite d'une autre manière\n",
    "plt.scatter(data[:,0],data[:,1],c=model.labels_)\n",
    "plt.scatter(model.cluster_centers_[:, 0],\n",
    "            model.cluster_centers_[:, 1], c='RED', s=200, alpha=0.5)"
   ]
  },
  {
   "cell_type": "code",
   "execution_count": 39,
   "metadata": {},
   "outputs": [
    {
     "data": {
      "text/plain": [
       "1.0"
      ]
     },
     "execution_count": 39,
     "metadata": {},
     "output_type": "execute_result"
    }
   ],
   "source": [
    "#EVALUATION  \n",
    "sm.accuracy_score(target, model.labels_, normalize=True)\n",
    "#conclusion  : score peut être faible puisque les labels  des classes \n",
    "#peuvent être  permutés"
   ]
  },
  {
   "cell_type": "code",
   "execution_count": 40,
   "metadata": {},
   "outputs": [
    {
     "data": {
      "text/plain": [
       "<matplotlib.collections.PathCollection at 0x211ffbb9760>"
      ]
     },
     "execution_count": 40,
     "metadata": {},
     "output_type": "execute_result"
    },
    {
     "data": {
      "image/png": "[encoded data removed]",
      "text/plain": [
       "<Figure size 432x288 with 1 Axes>"
      ]
     },
     "metadata": {
      "needs_background": "light"
     },
     "output_type": "display_data"
    }
   ],
   "source": [
    "# RESOLUTION DU PROBLEME\n",
    "\n",
    "# Representation graphique 2\n",
    "permutation = find_permutation(3, target, model.labels_)\n",
    "new_labels = [permutation[label] for label in model.labels_]\n",
    "\n",
    "plt.scatter(data[:, 0], data[:, 1], c=y_kmeans, s=50, cmap='viridis')\n",
    "centers = model.cluster_centers_\n",
    "plt.scatter(centers[:, 0], centers[:, 1], c='black', s=200, alpha=0.5)"
   ]
  },
  {
   "cell_type": "code",
   "execution_count": 41,
   "metadata": {},
   "outputs": [
    {
     "data": {
      "text/plain": [
       "1.0"
      ]
     },
     "execution_count": 41,
     "metadata": {},
     "output_type": "execute_result"
    }
   ],
   "source": [
    "#EVALUATION\n",
    "sm.accuracy_score(target, new_labels, normalize=True)"
   ]
  },
  {
   "cell_type": "code",
   "execution_count": 42,
   "metadata": {},
   "outputs": [
    {
     "data": {
      "text/plain": [
       "0.8096734884981345"
      ]
     },
     "execution_count": 42,
     "metadata": {},
     "output_type": "execute_result"
    }
   ],
   "source": [
    "sm.silhouette_score(data, model.labels_)"
   ]
  },
  {
   "cell_type": "code",
   "execution_count": 46,
   "metadata": {},
   "outputs": [
    {
     "data": {
      "text/plain": [
       "Text(0, 0.5, 'Cout du modele (inertia)')"
      ]
     },
     "execution_count": 46,
     "metadata": {},
     "output_type": "execute_result"
    },
    {
     "data": {
      "image/png": "[encoded data removed]",
      "text/plain": [
       "<Figure size 432x288 with 1 Axes>"
      ]
     },
     "metadata": {
      "needs_background": "light"
     },
     "output_type": "display_data"
    }
   ],
   "source": [
    "# extraire les données des clusters\n",
    "data[model.labels_ == 0] # premier cluster \n",
    "data[model.labels_ == 1] # Second cluster \n",
    "data[model.labels_ == 2] #troisieme cluster\n",
    "#Choix du K\n",
    "#ELBOW METHOD : Détecter une zone de coude dans la minimisation\n",
    "# du Coût (inertia_)\n",
    "inertia = []\n",
    "K_range = range(1, 20)\n",
    "for k in K_range:\n",
    "    model = KMeans(n_clusters = k).fit(data)\n",
    "    inertia.append(model.inertia_)\n",
    "\n",
    "plt.plot(K_range, inertia)\n",
    "plt.xlabel('nombre de clusters')\n",
    "plt.ylabel('Cout du modele (inertia)')\n"
   ]
  }
 ],
 "metadata": {
  "interpreter": {
   "hash": "2a13cb8ef33bd91cc8732fffefa8b8608c3ef5356f6150b5519fa3aec0445390"
  },
  "kernelspec": {
   "display_name": "Python 3.9.6 64-bit",
   "language": "python",
   "name": "python3"
  },
  "language_info": {
   "codemirror_mode": {
    "name": "ipython",
    "version": 3
   },
   "file_extension": ".py",
   "mimetype": "text/x-python",
   "name": "python",
   "nbconvert_exporter": "python",
   "pygments_lexer": "ipython3",
   "version": "3.9.6"
  },
  "orig_nbformat": 4
 },
 "nbformat": 4,
 "nbformat_minor": 2
}
