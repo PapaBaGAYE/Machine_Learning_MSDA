{
 "cells": [
  {
   "cell_type": "markdown",
   "metadata": {},
   "source": [
    "## Importer les Librairies"
   ]
  },
  {
   "cell_type": "code",
   "execution_count": 47,
   "metadata": {},
   "outputs": [],
   "source": [
    "import numpy as np\n",
    "from sklearn.datasets import make_regression\n",
    "import matplotlib.pyplot as plt"
   ]
  },
  {
   "cell_type": "markdown",
   "metadata": {},
   "source": [
    "## 1. Données"
   ]
  },
  {
   "cell_type": "code",
   "execution_count": 48,
   "metadata": {},
   "outputs": [
    {
     "data": {
      "text/plain": [
       "<matplotlib.collections.PathCollection at 0x29168bf64c0>"
      ]
     },
     "execution_count": 48,
     "metadata": {},
     "output_type": "execute_result"
    },
    {
     "data": {
      "image/png": "[encoded data removed]",
      "text/plain": [
       "<Figure size 432x288 with 1 Axes>"
      ]
     },
     "metadata": {
      "needs_background": "light"
     },
     "output_type": "display_data"
    }
   ],
   "source": [
    "x,y = make_regression(n_samples = 100, n_features = 1, noise = 10)\n",
    "plt.scatter(x,y)"
   ]
  },
  {
   "cell_type": "code",
   "execution_count": 49,
   "metadata": {},
   "outputs": [
    {
     "name": "stdout",
     "output_type": "stream",
     "text": [
      "(100, 1)\n",
      "(100,)\n"
     ]
    }
   ],
   "source": [
    "# verification des tailles\n",
    "print(x.shape)\n",
    "print(y.shape)"
   ]
  },
  {
   "cell_type": "code",
   "execution_count": 50,
   "metadata": {},
   "outputs": [
    {
     "name": "stdout",
     "output_type": "stream",
     "text": [
      "(100, 1)\n"
     ]
    }
   ],
   "source": [
    "y = y.reshape(y.shape[0],1)\n",
    "print(y.shape)"
   ]
  },
  {
   "cell_type": "code",
   "execution_count": 51,
   "metadata": {},
   "outputs": [
    {
     "data": {
      "text/plain": [
       "array([[ 1.        , -0.38442469],\n",
       "       [ 1.        ,  0.6328951 ],\n",
       "       [ 1.        , -0.78401969],\n",
       "       [ 1.        , -1.06210129],\n",
       "       [ 1.        , -1.47995914],\n",
       "       [ 1.        ,  1.19930461],\n",
       "       [ 1.        ,  1.04853142],\n",
       "       [ 1.        , -0.72232705],\n",
       "       [ 1.        ,  1.73320212],\n",
       "       [ 1.        ,  0.80432809],\n",
       "       [ 1.        ,  0.23857834],\n",
       "       [ 1.        ,  1.10691614],\n",
       "       [ 1.        ,  0.87133963],\n",
       "       [ 1.        , -1.45264538],\n",
       "       [ 1.        , -1.39770123],\n",
       "       [ 1.        ,  0.55751241],\n",
       "       [ 1.        ,  1.76341496],\n",
       "       [ 1.        , -0.43758383],\n",
       "       [ 1.        ,  0.85212374],\n",
       "       [ 1.        , -1.21378824],\n",
       "       [ 1.        , -1.18648185],\n",
       "       [ 1.        , -0.75109612],\n",
       "       [ 1.        , -0.73779234],\n",
       "       [ 1.        ,  1.41246238],\n",
       "       [ 1.        , -2.59275853],\n",
       "       [ 1.        ,  1.0954889 ],\n",
       "       [ 1.        , -1.64354944],\n",
       "       [ 1.        , -0.56973889],\n",
       "       [ 1.        , -0.730273  ],\n",
       "       [ 1.        ,  1.08602194],\n",
       "       [ 1.        , -1.3743692 ],\n",
       "       [ 1.        ,  0.49687933],\n",
       "       [ 1.        , -0.09575674],\n",
       "       [ 1.        ,  0.44144807],\n",
       "       [ 1.        ,  1.63286326],\n",
       "       [ 1.        , -0.51904564],\n",
       "       [ 1.        ,  1.18575211],\n",
       "       [ 1.        ,  0.80572686],\n",
       "       [ 1.        ,  0.24359387],\n",
       "       [ 1.        ,  2.87084263],\n",
       "       [ 1.        , -0.23934844],\n",
       "       [ 1.        ,  0.15583063],\n",
       "       [ 1.        ,  0.76073701],\n",
       "       [ 1.        ,  1.35910369],\n",
       "       [ 1.        , -0.71748838],\n",
       "       [ 1.        , -0.37495366],\n",
       "       [ 1.        ,  0.01537091],\n",
       "       [ 1.        , -0.58317977],\n",
       "       [ 1.        ,  2.31442925],\n",
       "       [ 1.        , -0.88918329],\n",
       "       [ 1.        , -2.69939111],\n",
       "       [ 1.        , -0.40046746],\n",
       "       [ 1.        ,  0.4906174 ],\n",
       "       [ 1.        ,  0.82586931],\n",
       "       [ 1.        , -1.40891779],\n",
       "       [ 1.        , -2.01317312],\n",
       "       [ 1.        , -0.34458967],\n",
       "       [ 1.        ,  0.82843255],\n",
       "       [ 1.        , -1.45567159],\n",
       "       [ 1.        , -1.01834541],\n",
       "       [ 1.        ,  0.46505843],\n",
       "       [ 1.        ,  1.42608908],\n",
       "       [ 1.        ,  0.24134907],\n",
       "       [ 1.        , -0.28306321],\n",
       "       [ 1.        , -0.92536237],\n",
       "       [ 1.        ,  0.06426171],\n",
       "       [ 1.        , -1.98386489],\n",
       "       [ 1.        ,  0.55065234],\n",
       "       [ 1.        , -0.39110973],\n",
       "       [ 1.        ,  0.98897804],\n",
       "       [ 1.        ,  1.31198455],\n",
       "       [ 1.        ,  0.49882296],\n",
       "       [ 1.        , -0.2872318 ],\n",
       "       [ 1.        , -0.23844144],\n",
       "       [ 1.        ,  0.52717035],\n",
       "       [ 1.        , -0.00329327],\n",
       "       [ 1.        , -0.10208708],\n",
       "       [ 1.        , -0.17624497],\n",
       "       [ 1.        ,  0.14018845],\n",
       "       [ 1.        ,  0.58542585],\n",
       "       [ 1.        ,  0.11243845],\n",
       "       [ 1.        , -1.50969519],\n",
       "       [ 1.        ,  0.04536527],\n",
       "       [ 1.        ,  0.09271135],\n",
       "       [ 1.        , -0.99085936],\n",
       "       [ 1.        , -0.52870017],\n",
       "       [ 1.        , -1.22749087],\n",
       "       [ 1.        ,  2.28137739],\n",
       "       [ 1.        , -0.71700492],\n",
       "       [ 1.        ,  1.06159347],\n",
       "       [ 1.        , -0.11607143],\n",
       "       [ 1.        ,  0.12553028],\n",
       "       [ 1.        , -0.90887097],\n",
       "       [ 1.        , -0.94626363],\n",
       "       [ 1.        ,  0.82827646],\n",
       "       [ 1.        ,  0.49817388],\n",
       "       [ 1.        ,  0.34988453],\n",
       "       [ 1.        ,  1.37101828],\n",
       "       [ 1.        ,  0.60192897],\n",
       "       [ 1.        , -1.19153377]])"
      ]
     },
     "execution_count": 51,
     "metadata": {},
     "output_type": "execute_result"
    }
   ],
   "source": [
    "#matrice X\n",
    "X = np.hstack((np.ones(x.shape),x))\n",
    "X"
   ]
  },
  {
   "cell_type": "code",
   "execution_count": 52,
   "metadata": {},
   "outputs": [
    {
     "data": {
      "text/plain": [
       "(100, 2)"
      ]
     },
     "execution_count": 52,
     "metadata": {},
     "output_type": "execute_result"
    }
   ],
   "source": [
    "X.shape"
   ]
  },
  {
   "cell_type": "code",
   "execution_count": 53,
   "metadata": {},
   "outputs": [
    {
     "data": {
      "text/plain": [
       "array([[ 1.9081674 ],\n",
       "       [-0.33162544]])"
      ]
     },
     "execution_count": 53,
     "metadata": {},
     "output_type": "execute_result"
    }
   ],
   "source": [
    "#vecteurs des parametres\n",
    "beta = np.random.randn(2,1)\n",
    "beta"
   ]
  },
  {
   "cell_type": "markdown",
   "metadata": {},
   "source": [
    "## 2. Modèle"
   ]
  },
  {
   "cell_type": "code",
   "execution_count": 54,
   "metadata": {},
   "outputs": [
    {
     "data": {
      "text/plain": [
       "array([[2.0356524 ],\n",
       "       [1.69828328],\n",
       "       [2.16816827],\n",
       "       [2.2603872 ],\n",
       "       [2.3989595 ],\n",
       "       [1.51044748],\n",
       "       [1.5604477 ],\n",
       "       [2.14770942],\n",
       "       [1.33339348],\n",
       "       [1.64143174],\n",
       "       [1.82904875],\n",
       "       [1.54108584],\n",
       "       [1.61920901],\n",
       "       [2.38990156],\n",
       "       [2.37168068],\n",
       "       [1.7232821 ],\n",
       "       [1.32337413],\n",
       "       [2.05328133],\n",
       "       [1.62558149],\n",
       "       [2.31069046],\n",
       "       [2.30163496],\n",
       "       [2.15724998],\n",
       "       [2.15283811],\n",
       "       [1.43975894],\n",
       "       [2.76799209],\n",
       "       [1.54487541],\n",
       "       [2.4532102 ],\n",
       "       [2.09710731],\n",
       "       [2.1503445 ],\n",
       "       [1.54801489],\n",
       "       [2.36394319],\n",
       "       [1.74338957],\n",
       "       [1.93992277],\n",
       "       [1.76177199],\n",
       "       [1.3666684 ],\n",
       "       [2.08029614],\n",
       "       [1.51494183],\n",
       "       [1.64096787],\n",
       "       [1.82738547],\n",
       "       [0.95612294],\n",
       "       [1.98754143],\n",
       "       [1.85649   ],\n",
       "       [1.65588765],\n",
       "       [1.45745404],\n",
       "       [2.1461048 ],\n",
       "       [2.03251157],\n",
       "       [1.90307001],\n",
       "       [2.10156465],\n",
       "       [1.14064378],\n",
       "       [2.2030432 ],\n",
       "       [2.80335417],\n",
       "       [2.04097259],\n",
       "       [1.74546618],\n",
       "       [1.63428812],\n",
       "       [2.37540038],\n",
       "       [2.57578682],\n",
       "       [2.0224421 ],\n",
       "       [1.63343809],\n",
       "       [2.39090513],\n",
       "       [2.24587664],\n",
       "       [1.75394219],\n",
       "       [1.43523998],\n",
       "       [1.82812991],\n",
       "       [2.00203836],\n",
       "       [2.2150411 ],\n",
       "       [1.88685658],\n",
       "       [2.56606747],\n",
       "       [1.72555707],\n",
       "       [2.03786933],\n",
       "       [1.58019712],\n",
       "       [1.47307994],\n",
       "       [1.74274501],\n",
       "       [2.00342077],\n",
       "       [1.98724064],\n",
       "       [1.7333443 ],\n",
       "       [1.90925953],\n",
       "       [1.94202207],\n",
       "       [1.96661471],\n",
       "       [1.86167734],\n",
       "       [1.71402529],\n",
       "       [1.87087995],\n",
       "       [2.40882073],\n",
       "       [1.89312312],\n",
       "       [1.87742196],\n",
       "       [2.23676157],\n",
       "       [2.08349782],\n",
       "       [2.3152346 ],\n",
       "       [1.15160461],\n",
       "       [2.14594447],\n",
       "       [1.556116  ],\n",
       "       [1.94665964],\n",
       "       [1.86653836],\n",
       "       [2.20957213],\n",
       "       [2.22197249],\n",
       "       [1.63348985],\n",
       "       [1.74296026],\n",
       "       [1.79213679],\n",
       "       [1.45350286],\n",
       "       [1.70855244],\n",
       "       [2.30331031]])"
      ]
     },
     "execution_count": 54,
     "metadata": {},
     "output_type": "execute_result"
    }
   ],
   "source": [
    "def model(X,beta):\n",
    "    return(X.dot(beta))\n",
    "\n",
    "model(X,beta)"
   ]
  },
  {
   "cell_type": "code",
   "execution_count": 55,
   "metadata": {},
   "outputs": [
    {
     "data": {
      "text/plain": [
       "[<matplotlib.lines.Line2D at 0x291689785e0>]"
      ]
     },
     "execution_count": 55,
     "metadata": {},
     "output_type": "execute_result"
    },
    {
     "data": {
      "image/png": "[encoded data removed]",
      "text/plain": [
       "<Figure size 432x288 with 1 Axes>"
      ]
     },
     "metadata": {
      "needs_background": "light"
     },
     "output_type": "display_data"
    }
   ],
   "source": [
    "plt.scatter(x,y)\n",
    "plt.plot(x,model(X,beta),c='r')"
   ]
  },
  {
   "cell_type": "markdown",
   "metadata": {},
   "source": [
    "## EMV (MCO)"
   ]
  },
  {
   "cell_type": "code",
   "execution_count": null,
   "metadata": {},
   "outputs": [],
   "source": [
    "X.T.dot(X    (X'X)^-1"
   ]
  },
  {
   "cell_type": "code",
   "execution_count": 56,
   "metadata": {},
   "outputs": [
    {
     "data": {
      "text/plain": [
       "array([[-2.07915185],\n",
       "       [85.79263362]])"
      ]
     },
     "execution_count": 56,
     "metadata": {},
     "output_type": "execute_result"
    }
   ],
   "source": [
    "betaMV =(np.linalg.inv(X.T.dot(X)).dot(X.T)).dot(y)\n",
    "betaMV"
   ]
  },
  {
   "cell_type": "code",
   "execution_count": 57,
   "metadata": {},
   "outputs": [
    {
     "data": {
      "text/plain": [
       "[<matplotlib.lines.Line2D at 0x29168afd640>]"
      ]
     },
     "execution_count": 57,
     "metadata": {},
     "output_type": "execute_result"
    },
    {
     "data": {
      "image/png": "[encoded data removed]",
      "text/plain": [
       "<Figure size 432x288 with 1 Axes>"
      ]
     },
     "metadata": {
      "needs_background": "light"
     },
     "output_type": "display_data"
    }
   ],
   "source": [
    "plt.scatter(x,y)\n",
    "plt.plot(x,model(X,betaMV),c='r')"
   ]
  },
  {
   "cell_type": "markdown",
   "metadata": {},
   "source": [
    "## R2"
   ]
  },
  {
   "cell_type": "code",
   "execution_count": 58,
   "metadata": {},
   "outputs": [
    {
     "data": {
      "text/plain": [
       "0.9874374127916049"
      ]
     },
     "execution_count": 58,
     "metadata": {},
     "output_type": "execute_result"
    }
   ],
   "source": [
    "#Predictions\n",
    "predictions = model(X, betaMV)\n",
    "\n",
    "#Coefficient de détermination\n",
    "def coef_determination(y,pred):\n",
    "    u = ((y-pred)**2).sum()\n",
    "    v = ((y-y.mean())**2).sum()\n",
    "    return 1 - u/v\n",
    "\n",
    "coef_determination(y,predictions)"
   ]
  },
  {
   "cell_type": "markdown",
   "metadata": {},
   "source": [
    "## 2. fonction de coût"
   ]
  },
  {
   "cell_type": "code",
   "execution_count": 59,
   "metadata": {},
   "outputs": [
    {
     "data": {
      "text/plain": [
       "4281.7629949717575"
      ]
     },
     "execution_count": 59,
     "metadata": {},
     "output_type": "execute_result"
    }
   ],
   "source": [
    "def cost_function(X,y,beta):\n",
    "    m = len(y)\n",
    "    return 1/(2*m) * np.sum((model(X,beta)-y)**2)\n",
    "\n",
    "cost_function(X,y,beta)"
   ]
  },
  {
   "cell_type": "markdown",
   "metadata": {},
   "source": [
    "## 3. Gradient"
   ]
  },
  {
   "cell_type": "code",
   "execution_count": 60,
   "metadata": {},
   "outputs": [
    {
     "data": {
      "text/plain": [
       "array([[  4.6844221 ],\n",
       "       [-97.97887276]])"
      ]
     },
     "execution_count": 60,
     "metadata": {},
     "output_type": "execute_result"
    }
   ],
   "source": [
    "def gradient(X,y,theta):\n",
    "    m = len(y)\n",
    "    return 1/m *X.T.dot(model(X,theta)-y)\n",
    "\n",
    "gradient(X,y,beta)"
   ]
  },
  {
   "cell_type": "markdown",
   "metadata": {},
   "source": [
    "## 4. Descente du gradient"
   ]
  },
  {
   "cell_type": "code",
   "execution_count": 25,
   "metadata": {},
   "outputs": [],
   "source": [
    "def gradient_descent(X, y, beta, learning_rate, n_iterations):\n",
    "    cost_history = np.zeros(n_iterations)\n",
    "    for i in range(0,n_iterations):\n",
    "        beta =  beta - learning_rate * gradient(X,y,beta)\n",
    "        cost_history[i] = cost_function(X,y,beta)\n",
    "    return beta, cost_history"
   ]
  },
  {
   "cell_type": "code",
   "execution_count": 92,
   "metadata": {},
   "outputs": [
    {
     "data": {
      "text/plain": [
       "array([[-1.96836486],\n",
       "       [83.01008723]])"
      ]
     },
     "execution_count": 92,
     "metadata": {},
     "output_type": "execute_result"
    }
   ],
   "source": [
    "beta_final, cost_history = gradient_descent(X, y, beta, learning_rate = 0.01, n_iterations =300)\n",
    "beta_final"
   ]
  },
  {
   "cell_type": "code",
   "execution_count": 78,
   "metadata": {},
   "outputs": [
    {
     "data": {
      "text/plain": [
       "array([[-2.07915185],\n",
       "       [85.79263362]])"
      ]
     },
     "execution_count": 78,
     "metadata": {},
     "output_type": "execute_result"
    }
   ],
   "source": [
    "betaMV"
   ]
  },
  {
   "cell_type": "code",
   "execution_count": 93,
   "metadata": {},
   "outputs": [
    {
     "data": {
      "text/plain": [
       "0.9863966060857345"
      ]
     },
     "execution_count": 93,
     "metadata": {},
     "output_type": "execute_result"
    }
   ],
   "source": [
    "predictions = model(X, beta_final)\n",
    "coef_determination(y,predictions)"
   ]
  },
  {
   "cell_type": "code",
   "execution_count": 89,
   "metadata": {},
   "outputs": [
    {
     "data": {
      "text/plain": [
       "[<matplotlib.lines.Line2D at 0x291685fa070>]"
      ]
     },
     "execution_count": 89,
     "metadata": {},
     "output_type": "execute_result"
    },
    {
     "data": {
      "image/png": "[encoded data removed]",
      "text/plain": [
       "<Figure size 432x288 with 1 Axes>"
      ]
     },
     "metadata": {
      "needs_background": "light"
     },
     "output_type": "display_data"
    }
   ],
   "source": [
    "plt.scatter(x,y)\n",
    "plt.plot(x,model(X,beta_final),c='r')"
   ]
  },
  {
   "cell_type": "code",
   "execution_count": 90,
   "metadata": {},
   "outputs": [
    {
     "data": {
      "text/plain": [
       "[<matplotlib.lines.Line2D at 0x29169f40ca0>]"
      ]
     },
     "execution_count": 90,
     "metadata": {},
     "output_type": "execute_result"
    },
    {
     "data": {
      "image/png": "[encoded data removed]",
      "text/plain": [
       "<Figure size 432x288 with 1 Axes>"
      ]
     },
     "metadata": {
      "needs_background": "light"
     },
     "output_type": "display_data"
    }
   ],
   "source": [
    "plt.plot(range(len(cost_history)), cost_history)"
   ]
  },
  {
   "cell_type": "code",
   "execution_count": 95,
   "metadata": {},
   "outputs": [
    {
     "data": {
      "text/plain": [
       "799"
      ]
     },
     "execution_count": 95,
     "metadata": {},
     "output_type": "execute_result"
    }
   ],
   "source": [
    "def search(X, y, beta):\n",
    "    costs = []\n",
    "    n_iters = []\n",
    "    for iters in range(100, 800):\n",
    "        beta_final, cost_history = gradient_descent(X, y, beta, learning_rate=0.01, n_iterations=iters)\n",
    "        costs.append(cost_history[len(cost_history)-1])\n",
    "        n_iters.append(iters)\n",
    "    return n_iters[costs.index(min(costs))]\n",
    "search(X,y,beta)"
   ]
  },
  {
   "cell_type": "code",
   "execution_count": null,
   "metadata": {},
   "outputs": [],
   "source": []
  }
 ],
 "metadata": {
  "kernelspec": {
   "display_name": "Python 3",
   "language": "python",
   "name": "python3"
  },
  "language_info": {
   "codemirror_mode": {
    "name": "ipython",
    "version": 3
   },
   "file_extension": ".py",
   "mimetype": "text/x-python",
   "name": "python",
   "nbconvert_exporter": "python",
   "pygments_lexer": "ipython3",
   "version": "3.8.5"
  }
 },
 "nbformat": 4,
 "nbformat_minor": 4
}
